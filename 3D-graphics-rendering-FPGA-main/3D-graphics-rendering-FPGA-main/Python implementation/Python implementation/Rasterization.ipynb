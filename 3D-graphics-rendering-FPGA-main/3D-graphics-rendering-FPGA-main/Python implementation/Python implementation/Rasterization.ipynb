{
  "cells": [
    {
      "cell_type": "code",
      "execution_count": 1,
      "metadata": {
        "id": "FwLU-xP-Cj3B"
      },
      "outputs": [],
      "source": [
        "def rasterize_triangle(tri):\n",
        "    \"\"\"\n",
        "    Given a 3x2 numpy array TRI describing the integer vertices of a general\n",
        "    triangle, return an array containing all the points that lie within this\n",
        "    triangle or on the triangle's edge, but not the triangle vertices\n",
        "    themselves.\n",
        "    This code is based on the description given in\n",
        "    http://www.sunshine2k.de/coding/java/TriangleRasterization/TriangleRasterization.html\n",
        "    \"\"\"\n",
        "    # Sort by increasing y coordinate\n",
        "    tri = tri[tri[:, 1].argsort()]\n",
        "\n",
        "    # Check for triangles with horizontal edge\n",
        "    if tri[1, 1] == tri[2, 1]:\n",
        "        # Bottom is horizontal\n",
        "        points = rasterize_flat_triangle(tri)\n",
        "    elif tri[0, 1] == tri[1, 1]:\n",
        "        # Top is horizontal\n",
        "        points = rasterize_flat_triangle(tri[(2, 0, 1), :])\n",
        "    else:\n",
        "        # General triangle.\n",
        "        # We'll split this into two triangles with horizontal edges and process\n",
        "        # them separately.\n",
        "        # Find the additional vertex that splits the triangle.\n",
        "        helper_point = np.array([tri[0, 0] + (tri[1, 1] - tri[0, 1]) /\n",
        "                                         (tri[2, 1] - tri[0, 1]) *\n",
        "                                         (tri[2, 0] - tri[0, 0]),\n",
        "                                         tri[1, 1]]).round()\n",
        "\n",
        "        # Top triangle\n",
        "        points = rasterize_flat_triangle(tri[(0, 1), :],\n",
        "            helper_point=helper_point)\n",
        "        \n",
        "        # Bottom triangle\n",
        "        points = np.vstack([points, rasterize_flat_triangle(tri[(2, 1), :],\n",
        "            helper_point=helper_point)])\n",
        "        # points = rasterize_flat_triangle(tri[(2, 1), :],\n",
        "        #     helper_point=helper_point)\n",
        "    return points\n",
        "\n",
        "\n",
        "def rasterize_flat_triangle(tri, helper_point=None):\n",
        "    '''\n",
        "    Given a 3x2 numpy array TRI describing the vertices of a triangle where the\n",
        "    second and third vertex have the same y coordinate, return an array\n",
        "    containing all the points that lie within this triangle or\n",
        "    on the triangle's edge, but not the triangle vertices themselves.\n",
        "    Or, given a 2x2 numpy array TRI containing two vertices and HELPER_POINT\n",
        "    containing the third vertex, again return the same points as before, but\n",
        "    additionally return the helper_point as well (used when treating a\n",
        "    general triangle that's split into two triangles with horizontal edges)\n",
        "    '''\n",
        "    # Is the triangle we're treating part of a split triangle?\n",
        "    if helper_point is not None:\n",
        "        tri = np.vstack([tri, helper_point])\n",
        "\n",
        "    # Is the bottom or the top edge horizontal?\n",
        "    ydir = np.sign(tri[1, 1] - tri[0, 1])\n",
        "    # print(f'ydir: {ydir}')\n",
        "\n",
        "    # Make sure that the horizontal edge is left-right oriented\n",
        "    if tri[1, 0] > tri[2, 0]:\n",
        "        tri[1, 0], tri[2, 0] = tri[2, 0], tri[1, 0]\n",
        "    \n",
        "    # print(tri)\n",
        "\n",
        "    # Find the inverse slope (dx/dy) for the two non-horizontal edges\n",
        "    invslope1 = ydir * (tri[1, 0] - tri[0, 0]) / (tri[1, 1] - tri[0, 1])\n",
        "    invslope2 = ydir * (tri[2, 0] - tri[0, 0]) / (tri[2, 1] - tri[0, 1])\n",
        "    print(invslope1, invslope2)\n",
        "    \n",
        "    # Initialize the first scan line, which is one y-step below or above the\n",
        "    # first vertex\n",
        "    curx1 = tri[0, 0] + invslope1\n",
        "    curx2 = tri[0, 0] + invslope2\n",
        "    # print(f\"curx1: {curx1}, curx2: {curx2}\")\n",
        "    points = []\n",
        "\n",
        "    # Step vertically. Don't include the first row, because that row only\n",
        "    # contains the first vertex and we don't want to return the vertices\n",
        "    # print(np.arange(tri[0, 1] + ydir, tri[1, 1], ydir))\n",
        "    for y in np.arange(tri[0, 1] + ydir, tri[1, 1], ydir):\n",
        "        for x in np.arange(curx1.round(), curx2.round() + 1):\n",
        "            points.extend([(x, y)])\n",
        "        curx1 += invslope1\n",
        "        curx2 += invslope2\n",
        "        #print(f\"curx1: {curx1}, curx2: {curx2}\")\n",
        "\n",
        "    # If we're dealing with the first half of a split triangle, add the\n",
        "    # helper point (because that's not a \"real\" vertex of the triangle)\n",
        "    if helper_point is not None and ydir == 1:\n",
        "        points.extend([tuple(helper_point)])\n",
        "\n",
        "    # If we're not dealing with a split triangle, or if we're dealing with the\n",
        "    # first half of a split triangle, add the last line (but without the end\n",
        "    # points, because they're the vertices of the triangle\n",
        "    print(np.arange(tri[1, 0] + 1, tri[2, 0]))\n",
        "   \n",
        "    if helper_point is None or ydir == 1:\n",
        "        for x in np.arange(tri[1, 0] + 1, tri[2, 0]):\n",
        "            points.extend([(x, tri[1, 1])])\n",
        "\n",
        "    return np.array(points, dtype='int')"
      ]
    },
    {
      "cell_type": "code",
      "execution_count": 2,
      "metadata": {
        "colab": {
          "base_uri": "https://localhost:8080/",
          "height": 317
        },
        "id": "Kf2eoqVcpngM",
        "outputId": "f025bb94-3057-4330-8655-886d375b94b8"
      },
      "outputs": [
        {
          "name": "stdout",
          "output_type": "stream",
          "text": [
            "-1.0 1.6\n",
            "[ 3  4  5  6  7  8  9 10 11 12 13 14]\n"
          ]
        },
        {
          "data": {
            "text/plain": [
              "<matplotlib.image.AxesImage at 0x23cc50eff10>"
            ]
          },
          "execution_count": 2,
          "metadata": {},
          "output_type": "execute_result"
        },
        {
          "data": {
            "image/png": "[encoded data removed]",
            "text/plain": [
              "<Figure size 640x480 with 1 Axes>"
            ]
          },
          "metadata": {},
          "output_type": "display_data"
        }
      ],
      "source": [
        "#import triangle_rasterization as tr\n",
        "import matplotlib.pyplot as plt\n",
        "import numpy as np\n",
        "\n",
        "\n",
        "# triangleA = np.array([[4.5, 11], [ 7.5,  9], [7.5, 13]])\n",
        "# triangleA = np.array([[7.5, 13], [ 2,  13], [4.5, 11]])\n",
        "# triangleA = np.array([[11, 7], [ 8,  1], [13, 1]])\n",
        "# triangleA = np.array([[7.5, 13], [ 7.5,  9], [2, 9]])\n",
        "\n",
        "triangleA = np.array([[7, 3], [ 2,  8], [15, 8]])\n",
        "\n",
        "\n",
        "\n",
        "pointsA = rasterize_triangle(triangleA)\n",
        "\n",
        "# triangleB = np.array([[14,8],[5,1],[18, 1]])\n",
        "# pointsB = rasterize_triangle(triangleB)\n",
        "\n",
        "# triangleC = np.array([[5,15],[14,15],[14,8]])\n",
        "# pointsC = rasterize_triangle(triangleC)\n",
        "\n",
        "array = np.zeros([20,20])\n",
        "\n",
        "array[pointsA[:,1], pointsA[:,0]] = 1\n",
        "# array[pointsB[:,1], pointsB[:,0]] = 2\n",
        "# array[pointsC[:,1], pointsC[:,0]] = 3\n",
        "\n",
        "plt.imshow(array) #, interpolation='none')\n",
        "# plt.scatter(*triangleA.T, c='white')\n",
        "# plt.scatter(*triangleB.T, c='white')\n",
        "# plt.scatter(*triangleC.T, c='white')"
      ]
    },
    {
      "cell_type": "code",
      "execution_count": null,
      "metadata": {
        "colab": {
          "base_uri": "https://localhost:8080/"
        },
        "id": "iW7nE7TUmi5Q",
        "outputId": "06e6c22a-8d45-492d-9e4b-c544d0d7b990"
      },
      "outputs": [
        {
          "data": {
            "text/plain": [
              "array([[15,  3],\n",
              "       [ 5,  8],\n",
              "       [10, 15]])"
            ]
          },
          "execution_count": 3,
          "metadata": {},
          "output_type": "execute_result"
        }
      ],
      "source": [
        "triB = np.array([[10,15],[5,8],[15,3]])\n",
        "triB[triB[:, 1].argsort()]"
      ]
    },
    {
      "cell_type": "code",
      "execution_count": null,
      "metadata": {
        "id": "4h4COSQwpqJL"
      },
      "outputs": [],
      "source": [
        "# display resolution = 680x720\n",
        "\n",
        "# cordinate system (continuous): \n",
        "\n",
        "# x= -10 to +10\n",
        "# display_x : 0 to 680\n",
        "import numpy as np\n",
        "\n",
        "tri = np.array([[-67,49],[-96,-37],[-94,-33]])\n",
        "#tri = tri[tri[:, 1].argsort()]\n"
      ]
    },
    {
      "cell_type": "code",
      "execution_count": null,
      "metadata": {
        "colab": {
          "base_uri": "https://localhost:8080/"
        },
        "id": "2UwwXOrVriHS",
        "outputId": "f5a0455d-3c42-4299-87b1-dbdf3bf64262"
      },
      "outputs": [
        {
          "data": {
            "text/plain": [
              "array([14, 13, 12, 11, 10,  9])"
            ]
          },
          "execution_count": 5,
          "metadata": {},
          "output_type": "execute_result"
        }
      ],
      "source": [
        "ydir = -1\n",
        "tri =np.array( [[10,15],\n",
        " [ 5,8], [13,8]])\n",
        "np.arange(tri[0, 1] + ydir, tri[1, 1], ydir)"
      ]
    },
    {
      "cell_type": "code",
      "execution_count": null,
      "metadata": {
        "colab": {
          "base_uri": "https://localhost:8080/"
        },
        "id": "7jz2TbSUshWi",
        "outputId": "9a1f78c5-b379-4e88-88b9-61e3ae95b91f"
      },
      "outputs": [
        {
          "data": {
            "text/plain": [
              "array([[10, 15],\n",
              "       [ 5,  8],\n",
              "       [13,  8]])"
            ]
          },
          "execution_count": 6,
          "metadata": {},
          "output_type": "execute_result"
        }
      ],
      "source": [
        "tri[(0,1, 2), :]"
      ]
    },
    {
      "cell_type": "code",
      "execution_count": null,
      "metadata": {
        "id": "Kp-TpvLO_xZx"
      },
      "outputs": [],
      "source": [
        "helper_point = np.array([tri[0, 0] + (tri[1, 1] - tri[0, 1]) /\n",
        "                                         (tri[2, 1] - tri[0, 1]) *\n",
        "                                         (tri[2, 0] - tri[0, 0]),\n",
        "                                         tri[1, 1]]).round()"
      ]
    },
    {
      "cell_type": "code",
      "execution_count": null,
      "metadata": {
        "colab": {
          "base_uri": "https://localhost:8080/"
        },
        "id": "h9owryIsCYzl",
        "outputId": "3c9f0f97-8ce1-48e2-ac22-cc288574c648"
      },
      "outputs": [
        {
          "data": {
            "text/plain": [
              "array([-95., -37.])"
            ]
          },
          "execution_count": 14,
          "metadata": {},
          "output_type": "execute_result"
        }
      ],
      "source": [
        "helper_point"
      ]
    },
    {
      "cell_type": "code",
      "execution_count": null,
      "metadata": {
        "id": "ryIO8nM2CeSE"
      },
      "outputs": [],
      "source": [
        " ydir = np.sign(tri[0, 1] - tri[1, 1])"
      ]
    },
    {
      "cell_type": "code",
      "execution_count": null,
      "metadata": {
        "colab": {
          "base_uri": "https://localhost:8080/"
        },
        "id": "BUxwKtN3OHbg",
        "outputId": "8a74782c-27d3-4870-f9e5-cc47e88ea507"
      },
      "outputs": [
        {
          "data": {
            "text/plain": [
              "-1"
            ]
          },
          "execution_count": 13,
          "metadata": {},
          "output_type": "execute_result"
        }
      ],
      "source": [
        "ydir"
      ]
    },
    {
      "cell_type": "code",
      "execution_count": null,
      "metadata": {
        "colab": {
          "base_uri": "https://localhost:8080/"
        },
        "id": "YlMA7PtAOIwi",
        "outputId": "2c8c1a94-655c-424f-e5fe-1d4cda3acb8d"
      },
      "outputs": [
        {
          "data": {
            "text/plain": [
              "array([200, 300, 400, 500, 600, 700])"
            ]
          },
          "execution_count": 46,
          "metadata": {},
          "output_type": "execute_result"
        }
      ],
      "source": [
        "np.arange(200, 800, 100)"
      ]
    },
    {
      "cell_type": "code",
      "execution_count": null,
      "metadata": {
        "id": "JaEwO-dpMVkS"
      },
      "outputs": [],
      "source": []
    }
  ],
  "metadata": {
    "colab": {
      "collapsed_sections": [],
      "name": "Rasterization.ipynb",
      "provenance": []
    },
    "kernelspec": {
      "display_name": "Python 3",
      "name": "python3"
    },
    "language_info": {
      "codemirror_mode": {
        "name": "ipython",
        "version": 3
      },
      "file_extension": ".py",
      "mimetype": "text/x-python",
      "name": "python",
      "nbconvert_exporter": "python",
      "pygments_lexer": "ipython3",
      "version": "3.11.3"
    }
  },
  "nbformat": 4,
  "nbformat_minor": 0
}
