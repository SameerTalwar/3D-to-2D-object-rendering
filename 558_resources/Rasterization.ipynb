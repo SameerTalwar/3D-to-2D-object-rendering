{
  "nbformat": 4,
  "nbformat_minor": 0,
  "metadata": {
    "colab": {
      "name": "Rasterization.ipynb",
      "provenance": [],
      "collapsed_sections": []
    },
    "kernelspec": {
      "name": "python3",
      "display_name": "Python 3"
    },
    "language_info": {
      "name": "python"
    }
  },
  "cells": [
    {
      "cell_type": "code",
      "source": [
        "def rasterize_triangle(tri):\n",
        "    \"\"\"\n",
        "    Given a 3x2 numpy array TRI describing the integer vertices of a general\n",
        "    triangle, return an array containing all the points that lie within this\n",
        "    triangle or on the triangle's edge, but not the triangle vertices\n",
        "    themselves.\n",
        "    This code is based on the description given in\n",
        "    http://www.sunshine2k.de/coding/java/TriangleRasterization/TriangleRasterization.html\n",
        "    \"\"\"\n",
        "    # Sort by increasing y coordinate\n",
        "    tri = tri[tri[:, 1].argsort()]\n",
        "\n",
        "    # Check for triangles with horizontal edge\n",
        "    if tri[1, 1] == tri[2, 1]:\n",
        "        # Bottom is horizontal\n",
        "        points = rasterize_flat_triangle(tri)\n",
        "    elif tri[0, 1] == tri[1, 1]:\n",
        "        # Top is horizontal\n",
        "        points = rasterize_flat_triangle(tri[(2, 0, 1), :])\n",
        "    else:\n",
        "        # General triangle.\n",
        "        # We'll split this into two triangles with horizontal edges and process\n",
        "        # them separately.\n",
        "        # Find the additional vertex that splits the triangle.\n",
        "        helper_point = np.array([tri[0, 0] + (tri[1, 1] - tri[0, 1]) /\n",
        "                                         (tri[2, 1] - tri[0, 1]) *\n",
        "                                         (tri[2, 0] - tri[0, 0]),\n",
        "                                         tri[1, 1]]).round()\n",
        "\n",
        "        # Top triangle\n",
        "        points = rasterize_flat_triangle(tri[(0, 1), :],\n",
        "            helper_point=helper_point)\n",
        "        \n",
        "        # Bottom triangle\n",
        "        points = np.vstack([points, rasterize_flat_triangle(tri[(2, 1), :],\n",
        "            helper_point=helper_point)])\n",
        "        # points = rasterize_flat_triangle(tri[(2, 1), :],\n",
        "        #     helper_point=helper_point)\n",
        "    return points\n",
        "\n",
        "\n",
        "def rasterize_flat_triangle(tri, helper_point=None):\n",
        "    '''\n",
        "    Given a 3x2 numpy array TRI describing the vertices of a triangle where the\n",
        "    second and third vertex have the same y coordinate, return an array\n",
        "    containing all the points that lie within this triangle or\n",
        "    on the triangle's edge, but not the triangle vertices themselves.\n",
        "    Or, given a 2x2 numpy array TRI containing two vertices and HELPER_POINT\n",
        "    containing the third vertex, again return the same points as before, but\n",
        "    additionally return the helper_point as well (used when treating a\n",
        "    general triangle that's split into two triangles with horizontal edges)\n",
        "    '''\n",
        "    # Is the triangle we're treating part of a split triangle?\n",
        "    if helper_point is not None:\n",
        "        tri = np.vstack([tri, helper_point])\n",
        "\n",
        "    # Is the bottom or the top edge horizontal?\n",
        "    ydir = np.sign(tri[1, 1] - tri[0, 1])\n",
        "    # print(f'ydir: {ydir}')\n",
        "\n",
        "    # Make sure that the horizontal edge is left-right oriented\n",
        "    if tri[1, 0] > tri[2, 0]:\n",
        "        tri[1, 0], tri[2, 0] = tri[2, 0], tri[1, 0]\n",
        "    \n",
        "    # print(tri)\n",
        "\n",
        "    # Find the inverse slope (dx/dy) for the two non-horizontal edges\n",
        "    invslope1 = ydir * (tri[1, 0] - tri[0, 0]) / (tri[1, 1] - tri[0, 1])\n",
        "    invslope2 = ydir * (tri[2, 0] - tri[0, 0]) / (tri[2, 1] - tri[0, 1])\n",
        "    print(invslope1, invslope2)\n",
        "    \n",
        "    # Initialize the first scan line, which is one y-step below or above the\n",
        "    # first vertex\n",
        "    curx1 = tri[0, 0] + invslope1\n",
        "    curx2 = tri[0, 0] + invslope2\n",
        "    # print(f\"curx1: {curx1}, curx2: {curx2}\")\n",
        "    points = []\n",
        "\n",
        "    # Step vertically. Don't include the first row, because that row only\n",
        "    # contains the first vertex and we don't want to return the vertices\n",
        "    # print(np.arange(tri[0, 1] + ydir, tri[1, 1], ydir))\n",
        "    for y in np.arange(tri[0, 1] + ydir, tri[1, 1], ydir):\n",
        "        for x in np.arange(curx1.round(), curx2.round() + 1):\n",
        "            points.extend([(x, y)])\n",
        "        curx1 += invslope1\n",
        "        curx2 += invslope2\n",
        "        #print(f\"curx1: {curx1}, curx2: {curx2}\")\n",
        "\n",
        "    # If we're dealing with the first half of a split triangle, add the\n",
        "    # helper point (because that's not a \"real\" vertex of the triangle)\n",
        "    if helper_point is not None and ydir == 1:\n",
        "        points.extend([tuple(helper_point)])\n",
        "\n",
        "    # If we're not dealing with a split triangle, or if we're dealing with the\n",
        "    # first half of a split triangle, add the last line (but without the end\n",
        "    # points, because they're the vertices of the triangle\n",
        "    print(np.arange(tri[1, 0] + 1, tri[2, 0]))\n",
        "   \n",
        "    if helper_point is None or ydir == 1:\n",
        "        for x in np.arange(tri[1, 0] + 1, tri[2, 0]):\n",
        "            points.extend([(x, tri[1, 1])])\n",
        "\n",
        "    return np.array(points, dtype='int')"
      ],
      "metadata": {
        "id": "FwLU-xP-Cj3B"
      },
      "execution_count": null,
      "outputs": []
    },
    {
      "cell_type": "code",
      "source": [
        "#import triangle_rasterization as tr\n",
        "import matplotlib.pyplot as plt\n",
        "import numpy as np\n",
        "\n",
        "\n",
        "# triangleA = np.array([[4.5, 11], [ 7.5,  9], [7.5, 13]])\n",
        "# triangleA = np.array([[7.5, 13], [ 2,  13], [4.5, 11]])\n",
        "# triangleA = np.array([[11, 7], [ 8,  1], [13, 1]])\n",
        "# triangleA = np.array([[7.5, 13], [ 7.5,  9], [2, 9]])\n",
        "\n",
        "# triangleA = np.array([[7, 3], [ 2,  8], [15, 8]]) #general triangle\n",
        "triangleA = np.array([[2, 15], [ 2,  5], [10, 5]]) #right angled triangle\n",
        "# triangleA = np.array([[5, 15], [ 2,  5], [10, 5]]) #flat top triangle\n",
        "\n",
        "\n",
        "\n",
        "\n",
        "pointsA = rasterize_triangle(triangleA)\n",
        "\n",
        "triangleB = np.array([[14,8],[5,1],[18, 1]])\n",
        "pointsB = rasterize_triangle(triangleB)\n",
        "\n",
        "# triangleC = np.array([[5,15],[14,15],[14,8]])\n",
        "# pointsC = rasterize_triangle(triangleC)\n",
        "\n",
        "array = np.zeros([20,20])\n",
        "\n",
        "array[pointsA[:,1], pointsA[:,0]] = 1\n",
        "array[pointsB[:,1], pointsB[:,0]] = 2\n",
        "# array[pointsC[:,1], pointsC[:,0]] = 3\n",
        "\n",
        "plt.imshow(array) #, interpolation='none')\n",
        "# plt.scatter(*triangleA.T, c='white')\n",
        "# plt.scatter(*triangleB.T, c='white')\n",
        "# plt.scatter(*triangleC.T, c='white')"
      ],
      "metadata": {
        "id": "Kf2eoqVcpngM",
        "colab": {
          "base_uri": "https://localhost:8080/",
          "height": 352
        },
        "outputId": "760ba573-36f0-4892-d4fa-8e90f3581888"
      },
      "execution_count": null,
      "outputs": [
        {
          "output_type": "stream",
          "name": "stdout",
          "text": [
            "-0.0 0.8\n",
            "[3 4 5 6 7 8 9]\n",
            "-1.2857142857142858 0.5714285714285714\n",
            "[ 6  7  8  9 10 11 12 13 14 15 16 17]\n"
          ]
        },
        {
          "output_type": "execute_result",
          "data": {
            "text/plain": [
              "<matplotlib.image.AxesImage at 0x7fc8315162d0>"
            ]
          },
          "metadata": {},
          "execution_count": 6
        },
        {
          "output_type": "display_data",
          "data": {
            "text/plain": [
              "<Figure size 432x288 with 1 Axes>"
            ],
            "image/png": "[encoded data removed]"
          },
          "metadata": {
            "needs_background": "light"
          }
        }
      ]
    },
    {
      "cell_type": "code",
      "source": [
        "triB = np.array([[10,15],[5,8],[15,3]])\n",
        "triB[triB[:, 1].argsort()]"
      ],
      "metadata": {
        "colab": {
          "base_uri": "https://localhost:8080/"
        },
        "id": "iW7nE7TUmi5Q",
        "outputId": "06e6c22a-8d45-492d-9e4b-c544d0d7b990"
      },
      "execution_count": null,
      "outputs": [
        {
          "output_type": "execute_result",
          "data": {
            "text/plain": [
              "array([[15,  3],\n",
              "       [ 5,  8],\n",
              "       [10, 15]])"
            ]
          },
          "metadata": {},
          "execution_count": 3
        }
      ]
    },
    {
      "cell_type": "code",
      "source": [
        "# display resolution = 680x720\n",
        "\n",
        "# cordinate system (continuous): \n",
        "\n",
        "# x= -10 to +10\n",
        "# display_x : 0 to 680\n",
        "import numpy as np\n",
        "\n",
        "tri = np.array([[-67,49],[-96,-37],[-94,-33]])\n",
        "#tri = tri[tri[:, 1].argsort()]\n"
      ],
      "metadata": {
        "id": "4h4COSQwpqJL"
      },
      "execution_count": null,
      "outputs": []
    },
    {
      "cell_type": "code",
      "source": [
        "ydir = -1\n",
        "tri =np.array( [[10,15],\n",
        " [ 5,8], [13,8]])\n",
        "np.arange(tri[0, 1] + ydir, tri[1, 1], ydir)"
      ],
      "metadata": {
        "colab": {
          "base_uri": "https://localhost:8080/"
        },
        "id": "2UwwXOrVriHS",
        "outputId": "f5a0455d-3c42-4299-87b1-dbdf3bf64262"
      },
      "execution_count": null,
      "outputs": [
        {
          "output_type": "execute_result",
          "data": {
            "text/plain": [
              "array([14, 13, 12, 11, 10,  9])"
            ]
          },
          "metadata": {},
          "execution_count": 5
        }
      ]
    },
    {
      "cell_type": "code",
      "source": [
        "tri[(0,1, 2), :]"
      ],
      "metadata": {
        "id": "7jz2TbSUshWi",
        "colab": {
          "base_uri": "https://localhost:8080/"
        },
        "outputId": "9a1f78c5-b379-4e88-88b9-61e3ae95b91f"
      },
      "execution_count": null,
      "outputs": [
        {
          "output_type": "execute_result",
          "data": {
            "text/plain": [
              "array([[10, 15],\n",
              "       [ 5,  8],\n",
              "       [13,  8]])"
            ]
          },
          "metadata": {},
          "execution_count": 6
        }
      ]
    },
    {
      "cell_type": "code",
      "source": [
        "helper_point = np.array([tri[0, 0] + (tri[1, 1] - tri[0, 1]) /\n",
        "                                         (tri[2, 1] - tri[0, 1]) *\n",
        "                                         (tri[2, 0] - tri[0, 0]),\n",
        "                                         tri[1, 1]]).round()"
      ],
      "metadata": {
        "id": "Kp-TpvLO_xZx"
      },
      "execution_count": null,
      "outputs": []
    },
    {
      "cell_type": "code",
      "source": [
        "helper_point"
      ],
      "metadata": {
        "colab": {
          "base_uri": "https://localhost:8080/"
        },
        "id": "h9owryIsCYzl",
        "outputId": "3c9f0f97-8ce1-48e2-ac22-cc288574c648"
      },
      "execution_count": null,
      "outputs": [
        {
          "output_type": "execute_result",
          "data": {
            "text/plain": [
              "array([-95., -37.])"
            ]
          },
          "metadata": {},
          "execution_count": 14
        }
      ]
    },
    {
      "cell_type": "code",
      "source": [
        " ydir = np.sign(tri[0, 1] - tri[1, 1])"
      ],
      "metadata": {
        "id": "ryIO8nM2CeSE"
      },
      "execution_count": null,
      "outputs": []
    },
    {
      "cell_type": "code",
      "source": [
        "ydir"
      ],
      "metadata": {
        "colab": {
          "base_uri": "https://localhost:8080/"
        },
        "id": "BUxwKtN3OHbg",
        "outputId": "8a74782c-27d3-4870-f9e5-cc47e88ea507"
      },
      "execution_count": null,
      "outputs": [
        {
          "output_type": "execute_result",
          "data": {
            "text/plain": [
              "-1"
            ]
          },
          "metadata": {},
          "execution_count": 13
        }
      ]
    },
    {
      "cell_type": "code",
      "source": [
        "np.arange(200, 800, 100)"
      ],
      "metadata": {
        "id": "YlMA7PtAOIwi",
        "colab": {
          "base_uri": "https://localhost:8080/"
        },
        "outputId": "2c8c1a94-655c-424f-e5fe-1d4cda3acb8d"
      },
      "execution_count": null,
      "outputs": [
        {
          "output_type": "execute_result",
          "data": {
            "text/plain": [
              "array([200, 300, 400, 500, 600, 700])"
            ]
          },
          "metadata": {},
          "execution_count": 46
        }
      ]
    },
    {
      "cell_type": "code",
      "source": [
        ""
      ],
      "metadata": {
        "id": "JaEwO-dpMVkS"
      },
      "execution_count": null,
      "outputs": []
    }
  ]
}